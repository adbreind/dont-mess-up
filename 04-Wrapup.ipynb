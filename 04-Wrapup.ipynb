{
 "cells": [
  {
   "cell_type": "markdown",
   "id": "ec589855-fdb2-4ab5-9e4c-e3ec8d351731",
   "metadata": {},
   "source": [
    "# Final thoughts: Communicating about uncertainty"
   ]
  },
  {
   "cell_type": "markdown",
   "id": "503c95aa-5d1e-4a4b-b61c-13207555b3e7",
   "metadata": {},
   "source": [
    "* Get used to communicating with distributions, not point estimates\n",
    "* Simplify ... but don't hide uncertainty or oversimplify, especially tail risk\n",
    "* ABIYLFOYP: think about the cost of business objective functions together with their probabilities\n",
    "    * don't consider raw probabilities only (Russian roulette example)"
   ]
  },
  {
   "cell_type": "markdown",
   "id": "60e38270-3e25-43b8-bc86-b7d9aeacbb16",
   "metadata": {},
   "source": [
    "* Think in terms of counts rather than probability; this is especially useful for conditional probability questions\n",
    "    * In a the classic disease problem, where\n",
    "        * a disease has prevalence A and \n",
    "        * a test for that disease has false positive rate B,\n",
    "        * and we need to see what the probability is that someone who tests positive has the condition,\n",
    "    * people do dramatically better when encouraged to count the affected people in a pretend \"town\" of 1000 people, rather than try and work formulas!"
   ]
  },
  {
   "cell_type": "markdown",
   "id": "5f92df1a-7e45-43f3-b50a-9b44528187ce",
   "metadata": {},
   "source": [
    "* Try and relate odds (and odds changes) to things people already know\n",
    "    * Mask efforts around COVID might do better if, instead of arguing about clinical or experimental data, we said something people can relate to, such as:\n",
    "        * \"Wearing a mask is like starting your poker hand with 2 aces: it doesn't guarantee anything about winning, but it's a better hand to start with than most others!\"\n",
    "    * Those odds might not be accurate, but the concept is much closer to the truth than \"masks work\" or \"masks don't work\""
   ]
  },
  {
   "cell_type": "code",
   "execution_count": null,
   "id": "a5dab51f-7f7f-4689-b3c6-d6f4bb2b0535",
   "metadata": {},
   "outputs": [],
   "source": []
  }
 ],
 "metadata": {
  "kernelspec": {
   "display_name": "Python 3 (ipykernel)",
   "language": "python",
   "name": "python3"
  },
  "language_info": {
   "codemirror_mode": {
    "name": "ipython",
    "version": 3
   },
   "file_extension": ".py",
   "mimetype": "text/x-python",
   "name": "python",
   "nbconvert_exporter": "python",
   "pygments_lexer": "ipython3",
   "version": "3.9.16"
  }
 },
 "nbformat": 4,
 "nbformat_minor": 5
}
