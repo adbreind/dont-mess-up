{
 "cells": [
  {
   "cell_type": "markdown",
   "metadata": {},
   "source": [
    "# Data-Driven Decisions: Common Statistical Tricks and Paradoxes"
   ]
  },
  {
   "cell_type": "markdown",
   "metadata": {},
   "source": [
    "## Instructor and Administrative Details\n",
    "\n",
    "<img src='images/med-head.jpg' width=300>"
   ]
  },
  {
   "cell_type": "markdown",
   "metadata": {},
   "source": [
    "## Adam Breindel\n",
    "\n",
    "__LinkedIn__ - https://www.linkedin.com/in/adbreind\n",
    "\n",
    "__Email__ - <tt>adbreind@gmail.com</tt>\n",
    "\n",
    "__Twitter__ - <tt>@adbreind</tt>\n",
    "\n",
    "* 20+ years building systems for startups and large enterprises\n",
    "* 10+ years teaching front- and back-end technology\n",
    "\n",
    "__Fun large-scale data projects__\n",
    "* Streaming neural net + decision tree fraud scoring\n",
    "* Realtime & offline analytics for banking\n",
    "* Music synchronization and licensing for networked jukeboxes\n",
    "\n",
    "__Industries__\n",
    "* Finance / Insurance\n",
    "* Travel, Media / Entertainment\n",
    "* Energy, Government\n",
    "* Advertising/Social Media, & more\n",
    "\n",
    "__Currently (Besides Training)__\n",
    "* Consulting on data engineering and machine learning\n",
    "* Development\n",
    "* Various advisory roles"
   ]
  },
  {
   "cell_type": "markdown",
   "metadata": {},
   "source": [
    "## Class Schedule\n",
    "\n",
    "* Interrupt any time with questions or comments\n",
    "* 10 minute breaks each hour"
   ]
  },
  {
   "cell_type": "code",
   "execution_count": null,
   "metadata": {},
   "outputs": [],
   "source": []
  }
 ],
 "metadata": {
  "kernelspec": {
   "display_name": "Python 3 (ipykernel)",
   "language": "python",
   "name": "python3"
  },
  "language_info": {
   "codemirror_mode": {
    "name": "ipython",
    "version": 3
   },
   "file_extension": ".py",
   "mimetype": "text/x-python",
   "name": "python",
   "nbconvert_exporter": "python",
   "pygments_lexer": "ipython3",
   "version": "3.9.16"
  }
 },
 "nbformat": 4,
 "nbformat_minor": 4
}
